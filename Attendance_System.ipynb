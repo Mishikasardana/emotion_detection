{
  "nbformat": 4,
  "nbformat_minor": 0,
  "metadata": {
    "colab": {
      "provenance": []
    },
    "kernelspec": {
      "name": "python3",
      "display_name": "Python 3"
    },
    "language_info": {
      "name": "python"
    }
  },
  "cells": [
    {
      "cell_type": "code",
      "execution_count": 1,
      "metadata": {
        "colab": {
          "base_uri": "https://localhost:8080/"
        },
        "id": "1Rjf61AfwcrU",
        "outputId": "97604feb-92a7-4805-b1c4-041e0a1c578e"
      },
      "outputs": [
        {
          "output_type": "stream",
          "name": "stdout",
          "text": [
            "Requirement already satisfied: opencv-python in /usr/local/lib/python3.11/dist-packages (4.11.0.86)\n",
            "Collecting face-recognition\n",
            "  Downloading face_recognition-1.3.0-py2.py3-none-any.whl.metadata (21 kB)\n",
            "Requirement already satisfied: numpy>=1.21.2 in /usr/local/lib/python3.11/dist-packages (from opencv-python) (1.26.4)\n",
            "Collecting face-recognition-models>=0.3.0 (from face-recognition)\n",
            "  Downloading face_recognition_models-0.3.0.tar.gz (100.1 MB)\n",
            "\u001b[2K     \u001b[90m━━━━━━━━━━━━━━━━━━━━━━━━━━━━━━━━━━━━━━━━\u001b[0m \u001b[32m100.1/100.1 MB\u001b[0m \u001b[31m7.2 MB/s\u001b[0m eta \u001b[36m0:00:00\u001b[0m\n",
            "\u001b[?25h  Preparing metadata (setup.py) ... \u001b[?25l\u001b[?25hdone\n",
            "Requirement already satisfied: Click>=6.0 in /usr/local/lib/python3.11/dist-packages (from face-recognition) (8.1.8)\n",
            "Requirement already satisfied: dlib>=19.7 in /usr/local/lib/python3.11/dist-packages (from face-recognition) (19.24.2)\n",
            "Requirement already satisfied: Pillow in /usr/local/lib/python3.11/dist-packages (from face-recognition) (11.1.0)\n",
            "Downloading face_recognition-1.3.0-py2.py3-none-any.whl (15 kB)\n",
            "Building wheels for collected packages: face-recognition-models\n",
            "  Building wheel for face-recognition-models (setup.py) ... \u001b[?25l\u001b[?25hdone\n",
            "  Created wheel for face-recognition-models: filename=face_recognition_models-0.3.0-py2.py3-none-any.whl size=100566162 sha256=ec86879ac50ffcc184fd9801b923b2495ebf33ec3b18893316f53d77e1984bc7\n",
            "  Stored in directory: /root/.cache/pip/wheels/04/52/ec/9355da79c29f160b038a20c784db2803c2f9fa2c8a462c176a\n",
            "Successfully built face-recognition-models\n",
            "Installing collected packages: face-recognition-models, face-recognition\n",
            "Successfully installed face-recognition-1.3.0 face-recognition-models-0.3.0\n"
          ]
        }
      ],
      "source": [
        "pip install opencv-python face-recognition"
      ]
    },
    {
      "cell_type": "code",
      "source": [
        "import os\n",
        "import cv2\n",
        "import face_recognition\n",
        "import pandas as pd"
      ],
      "metadata": {
        "id": "60_Wi18Bw_le"
      },
      "execution_count": null,
      "outputs": []
    },
    {
      "cell_type": "code",
      "source": [
        "student = pd.read_csv('student.csv')\n",
        "known_encodings = []\n",
        "known_names = []"
      ],
      "metadata": {
        "id": "1zOY8VIoxVjG"
      },
      "execution_count": null,
      "outputs": []
    },
    {
      "cell_type": "code",
      "source": [
        "for img_file in os.listdir('student'):\n",
        "    img = cv2.imread(os.path.join('student', img_file))\n",
        "    encoding = face_recognition.face_encodings(img)[0]\n",
        "    known_encodings.append(encoding)\n",
        "    known_names.append(os.path.splitext(img_file)[0])"
      ],
      "metadata": {
        "id": "9zmhIezSxrMt"
      },
      "execution_count": null,
      "outputs": []
    },
    {
      "cell_type": "code",
      "source": [
        "from fer import FER\n",
        "emotion_detector = FER()"
      ],
      "metadata": {
        "id": "Z-WiebbzyIGE"
      },
      "execution_count": null,
      "outputs": []
    },
    {
      "cell_type": "code",
      "source": [
        "attendance = {\n",
        "    name:{\" Present\":False, \"Emotion\":\"Unknown\",\"Time\":None} for name in known_names\n",
        "}\n"
      ],
      "metadata": {
        "id": "ZmAVsKY2yW_-"
      },
      "execution_count": null,
      "outputs": []
    },
    {
      "cell_type": "code",
      "source": [
        "import datetime\n"
      ],
      "metadata": {
        "id": "3f63u2BQy8hT"
      },
      "execution_count": 11,
      "outputs": []
    },
    {
      "cell_type": "code",
      "source": [
        "def run_attendance_system():\n",
        "  current_time = datetime.datetime.now().time()\n",
        "  start_time = datetime.time(9,30)\n",
        "  end_time = datetime.time(10,0)\n",
        "\n",
        "  if not (start_time<=current_time <= end_time):\n",
        "    print(\"Outside the hours\")\n",
        "    return\n",
        "\n",
        "  cap = cv2.VideoCapture(0)\n",
        "\n",
        "  while datetime.datetime.now().time() < end_time:\n",
        "    ret, frame = cap.read()\n",
        "    if not ret:\n",
        "      break\n",
        "\n",
        "    face_locations = face_recognition.face_locations(frame)\n",
        "    face_encodings = face_recognition.face_encodings(frame, face_locations)\n",
        "\n",
        "    for (top, right, bottom, left), face_encoding in zip(face_locations, face_encodings):\n",
        "      matches = face_recognition.compare_faces(known_encodings, face_encoding)\n",
        "      name = \"Unknown\"\n",
        "      if True in matches:\n",
        "        first_match_index = matches.index(True)\n",
        "        name = known_names[first_match_index]\n",
        "\n",
        "        roi = frame[top:bottom, left:right]\n",
        "        emotion, score = emotion_detector.top_emotion(roi)\n",
        "\n",
        "        attendance[name][\"Present\"] = True\n",
        "        attendance[name][\"Emotion\"] = emotion\n",
        "        attendance[name][\"Time\"] = datetime.datetime.now().strftime(\"%H:%M:%S\")\n",
        "\n",
        "      cv2.rectangle(frame,(left,top),(right,bottom),(0,255,0),2)\n",
        "      cv2.putText(frame,f\"{name}:{emotion}\",(left,top-10),cv2.FONT_HERSHEY_SIMPLEX,0.8,(0,255,0),2)\n",
        "\n",
        "    cv2.imshow(\"Attendance System\",frame)\n",
        "    if cv2.waitKey(1) & 0xFF == ord('q'):\n",
        "      break\n",
        "  cap.release()\n",
        "  cv2.destroyAllWindows()\n",
        "\n",
        "  output = pd.DataFrame(attendance).T.reset_index().rename(columns={\"index\":\"Name\"})\n",
        "  output[\"Present\"] = output[\"Present\"].map({True: \"Present\", False: \"Absent\"})\n",
        "  output.to_csv(\"attendance_report.csv\", index = False)"
      ],
      "metadata": {
        "id": "TGddWiY_X3Xo"
      },
      "execution_count": 13,
      "outputs": []
    },
    {
      "cell_type": "code",
      "source": [],
      "metadata": {
        "id": "SbkpbZ9WdTrF"
      },
      "execution_count": null,
      "outputs": []
    }
  ]
}